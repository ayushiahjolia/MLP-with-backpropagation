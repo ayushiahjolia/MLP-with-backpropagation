{
 "cells": [
  {
   "cell_type": "markdown",
   "metadata": {},
   "source": [
    "# Backpropogation"
   ]
  },
  {
   "cell_type": "markdown",
   "metadata": {},
   "source": [
    "### Importing Libraries"
   ]
  },
  {
   "cell_type": "code",
   "execution_count": 1,
   "metadata": {},
   "outputs": [],
   "source": [
    "import numpy as np\n",
    "import pandas as pd\n",
    "import pickle\n",
    "import matplotlib.pyplot as plt\n",
    "\n",
    "np.random.seed(2) #setting seed so that the results are consistent"
   ]
  },
  {
   "cell_type": "markdown",
   "metadata": {},
   "source": [
    "### Read data from files"
   ]
  },
  {
   "cell_type": "code",
   "execution_count": 2,
   "metadata": {},
   "outputs": [],
   "source": [
    "X = pd.read_csv(\"./train_data.csv\", header=None)\n",
    "Y = pd.read_csv(\"./train_labels.csv\", header=None)"
   ]
  },
  {
   "cell_type": "markdown",
   "metadata": {},
   "source": [
    "### Dividing data into train and validation sets"
   ]
  },
  {
   "cell_type": "code",
   "execution_count": 3,
   "metadata": {},
   "outputs": [],
   "source": [
    "# Train data - 70% and Validation data - 30%\n",
    "X_train = X.iloc[0:17327,:]\n",
    "y_train = Y.iloc[0:17327,:]\n",
    "X_val = X.iloc[17327:,:]\n",
    "y_val = Y.iloc[17327:,:]"
   ]
  },
  {
   "cell_type": "code",
   "execution_count": 4,
   "metadata": {},
   "outputs": [],
   "source": [
    "X_train = np.array(X_train.T)\n",
    "y_train = np.array(y_train.T)\n",
    "X_val = np.array(X_val.T)\n",
    "y_val = np.array(y_val.T)"
   ]
  },
  {
   "cell_type": "code",
   "execution_count": 5,
   "metadata": {},
   "outputs": [
    {
     "name": "stdout",
     "output_type": "stream",
     "text": [
      "The shape of X_train is: (784, 17327)\n",
      "The shape of y_train is: (4, 17327)\n",
      "The shape of X_val is: (784, 7427)\n",
      "The shape of y_val is: (4, 7427)\n"
     ]
    }
   ],
   "source": [
    "print ('The shape of X_train is: ' + str(X_train.shape))\n",
    "print ('The shape of y_train is: ' + str(y_train.shape))\n",
    "print ('The shape of X_val is: ' + str(X_val.shape))\n",
    "print ('The shape of y_val is: ' + str(y_val.shape))"
   ]
  },
  {
   "cell_type": "markdown",
   "metadata": {},
   "source": [
    "## Functions to build the network"
   ]
  },
  {
   "cell_type": "markdown",
   "metadata": {},
   "source": [
    "### Vectorized form :\n",
    "- We have used vectorized implementation because it is computationally faster.\n",
    "\n",
    "### Loss/Error Function :\n",
    "- We have used cross-entropy loss function to compute errors.\n",
    "- Cross-entropy loss is a loss function widely used for multi-class classification problems. \n",
    "- It’s built on the concept of cross-entropy, which is a measurement of two probability vectors (often with one of them being one-hot encoded labels in datasets)\n",
    "\n",
    "### Activation function : \n",
    "- We use non linear activation function because it helps learning easier for next layer. \n",
    "- If we were to use liner activation function in the hidden layer then it will compute the linear equation for all the layer thus there won't be any learning during the process.\n",
    "- **Sigmoid** : \n",
    "    - We have used sigmoid function between input and hidden layer.\n",
    "    - It takes real values as input and gives probability between 0 and 1 as output.\n",
    "    - This may cause issue of vanishing gradient, which we have solved further.\n",
    "- **Softmax** :\n",
    "    - We have used softmax function between hidden and output layer.\n",
    "    - As we are solving multiclass classification problem, softmax is best choice to get probability based results.\n"
   ]
  },
  {
   "cell_type": "code",
   "execution_count": 6,
   "metadata": {},
   "outputs": [],
   "source": [
    "# Defines number of neurons in each layer\n",
    "\n",
    "def layer_sizes(X, Y):\n",
    "    n_x=X.shape[0]\n",
    "    n_h=40\n",
    "    n_y=Y.shape[0]\n",
    "\n",
    "    return (n_x, n_h, n_y)"
   ]
  },
  {
   "cell_type": "code",
   "execution_count": 7,
   "metadata": {},
   "outputs": [],
   "source": [
    "# Intializes random values for weights and bias\n",
    "\n",
    "def initialize_parameters(n_x, n_h, n_y):\n",
    "    np.random.seed(2)\n",
    "    \n",
    "    W1=np.random.randn(n_h, n_x) * np.sqrt(2/(n_x + n_h))\n",
    "    b1=np.zeros((n_h, 1))\n",
    "    W2=np.random.randn(n_y, n_h) * np.sqrt(2/(n_y + n_h))\n",
    "    b2=np.zeros((n_y, 1))\n",
    "    \n",
    "    parameters = {\"W1\": W1,\n",
    "                \"b1\": b1,\n",
    "                \"W2\": W2,\n",
    "                \"b2\": b2 }\n",
    "    \n",
    "    return parameters"
   ]
  },
  {
   "cell_type": "markdown",
   "metadata": {},
   "source": [
    "To solve the issue of vanishing gradient, we multiplied random initialized weights with sqrt(2/(input_neurons + hiddenlayer_neurons))."
   ]
  },
  {
   "cell_type": "code",
   "execution_count": 8,
   "metadata": {},
   "outputs": [],
   "source": [
    "def sigmoid(x):\n",
    "    return 1/(1+np.exp(-x))"
   ]
  },
  {
   "cell_type": "code",
   "execution_count": 9,
   "metadata": {},
   "outputs": [],
   "source": [
    "def softmax(A):\n",
    "    expA = np.exp(A)\n",
    "    return expA / expA.sum(axis=0, keepdims=True)"
   ]
  },
  {
   "cell_type": "code",
   "execution_count": 10,
   "metadata": {},
   "outputs": [],
   "source": [
    "# Calculate outputs using feedforward\n",
    "\n",
    "def forward_propagation(X, parameters):\n",
    "    W1= parameters[\"W1\"]\n",
    "    b1= parameters[\"b1\"]\n",
    "    W2= parameters[\"W2\"]\n",
    "    b2= parameters[\"b2\"]\n",
    "    \n",
    "    Z1= np.dot(W1,X) + b1 \n",
    "    A1= sigmoid(Z1)\n",
    "    Z2= np.dot(W2,A1) + b2\n",
    "    A2= softmax(Z2)\n",
    "    \n",
    "    cache = {\"Z1\": Z1,\n",
    "            \"A1\": A1,\n",
    "            \"Z2\": Z2,\n",
    "            \"A2\": A2 }\n",
    "    \n",
    "    return A2, cache"
   ]
  },
  {
   "cell_type": "code",
   "execution_count": 11,
   "metadata": {},
   "outputs": [],
   "source": [
    "# Computes cost using Cross entropy loss function\n",
    "\n",
    "def compute_cost(A2, Y):\n",
    "    m = Y.shape[1]\n",
    "    cost = (1/m)*np.sum(-Y * np.log(A2))\n",
    "    return cost"
   ]
  },
  {
   "cell_type": "code",
   "execution_count": 12,
   "metadata": {},
   "outputs": [],
   "source": [
    "# Calculate derivatives of weights and biases\n",
    "\n",
    "def backward_propagation(parameters, cache, X, Y):  \n",
    "    \n",
    "    m = X.shape[1] \n",
    "    \n",
    "    W1 = parameters[\"W1\"]\n",
    "    W2 = parameters[\"W2\"]\n",
    "    \n",
    "    A1 = cache[\"A1\"]\n",
    "    A2 = cache[\"A2\"]\n",
    "\n",
    "    dz2 = (1/m) * np.subtract(A2,Y) \n",
    "    dW2 = np.dot(dz2,A1.T)  \n",
    "    db2 = np.sum(dz2, axis=1, keepdims=True)\n",
    "    dz1 = (np.dot(W2.T,dz2))*(A1 - np.power(A1, 2)) \n",
    "    dW1 = np.dot(dz1,X.T)\n",
    "    db1 = np.sum(dz1,axis=1, keepdims=True)\n",
    "    \n",
    "\n",
    "    grads = {\"dW1\": dW1,\n",
    "    \"db1\": db1,\n",
    "    \"dW2\": dW2,\n",
    "    \"db2\": db2 }\n",
    "    \n",
    "    return grads"
   ]
  },
  {
   "cell_type": "code",
   "execution_count": 13,
   "metadata": {},
   "outputs": [],
   "source": [
    "# Update weights using gradient descent algo\n",
    "\n",
    "def update_parameters(parameters, grads, learning_rate = 0.05):\n",
    "    W1=parameters[\"W1\"]\n",
    "    b1=parameters[\"b1\"]\n",
    "    W2=parameters[\"W2\"]\n",
    "    b2=parameters[\"b2\"]\n",
    "\n",
    "    dW1=grads[\"dW1\"]\n",
    "    db1=grads[\"db1\"]\n",
    "    dW2=grads[\"dW2\"]\n",
    "    db2=grads[\"db2\"]\n",
    "    \n",
    "    W1= W1 - (learning_rate*dW1)\n",
    "    b1= b1 - (learning_rate*db1)\n",
    "    W2= W2 - (learning_rate*dW2)\n",
    "    b2= b2 - (learning_rate*db2)\n",
    "    \n",
    "    parameters = {\"W1\": W1,\n",
    "    \"b1\": b1,\n",
    "    \"W2\": W2,\n",
    "    \"b2\": b2 }\n",
    "    \n",
    "    return parameters"
   ]
  },
  {
   "cell_type": "markdown",
   "metadata": {},
   "source": [
    "We tried different learning rates and 0.05 is giving best results."
   ]
  },
  {
   "cell_type": "markdown",
   "metadata": {},
   "source": [
    "### Predictions of validation set"
   ]
  },
  {
   "cell_type": "code",
   "execution_count": 14,
   "metadata": {},
   "outputs": [],
   "source": [
    "def predict(pred_parameters, X):\n",
    "    A2, cache = forward_propagation(X, pred_parameters)\n",
    "    predictions = np.argmax(A2, axis=0) \n",
    "    \n",
    "    return predictions"
   ]
  },
  {
   "cell_type": "code",
   "execution_count": 15,
   "metadata": {},
   "outputs": [],
   "source": [
    "# Converting to one-hot encodings\n",
    "def onehot_encoded(y):   \n",
    "    my_list = list()\n",
    "    for i in y:\n",
    "        temp = [0, 0, 0, 0]\n",
    "        temp[i] = 1\n",
    "        my_list.append(temp)\n",
    "        \n",
    "    return np.array(my_list)"
   ]
  },
  {
   "cell_type": "markdown",
   "metadata": {},
   "source": [
    "### Calculating accuracy"
   ]
  },
  {
   "cell_type": "code",
   "execution_count": 16,
   "metadata": {},
   "outputs": [],
   "source": [
    "from acc_calc import accuracy"
   ]
  },
  {
   "cell_type": "markdown",
   "metadata": {},
   "source": [
    "## Network - combining all functions together"
   ]
  },
  {
   "cell_type": "code",
   "execution_count": 17,
   "metadata": {},
   "outputs": [],
   "source": [
    "# Creation of neural network\n",
    "\n",
    "def nn_model(X, Y, n_h, num_iterations = 10000, print_cost=False):\n",
    "    np.random.seed(3)\n",
    "    n_x = layer_sizes(X, Y)[0]\n",
    "    n_y = layer_sizes(X, Y)[2]\n",
    "    \n",
    "    parameters = initialize_parameters(n_x, n_h, n_y)\n",
    "    accuracy_matrix = []\n",
    "    \n",
    "    for i in range(0, num_iterations+1):\n",
    "        A2, cache = forward_propagation(X, parameters)\n",
    "        cost = compute_cost(A2, Y)\n",
    "        grads = backward_propagation(parameters, cache, X, Y)\n",
    "        parameters = update_parameters(parameters, grads)\n",
    "        preds2 = predict(parameters, X_val)\n",
    "        preds = onehot_encoded(preds2)\n",
    "        accuracy_val = accuracy(y_val.T, preds)\n",
    "        accuracy_matrix.append(accuracy_val)\n",
    "        print(\"Accuracy after iteration %i: %f\" %(i, accuracy_val)) \n",
    "\n",
    "        if print_cost and i % 10 == 0:\n",
    "            print (\"Cost after iteration %i: %f\" %(i, cost))\n",
    "        \n",
    "    return parameters, accuracy_matrix"
   ]
  },
  {
   "cell_type": "code",
   "execution_count": 18,
   "metadata": {
    "scrolled": false
   },
   "outputs": [
    {
     "name": "stdout",
     "output_type": "stream",
     "text": [
      "Accuracy after iteration 0: 0.281944\n",
      "Accuracy after iteration 1: 0.297294\n",
      "Accuracy after iteration 2: 0.314259\n",
      "Accuracy after iteration 3: 0.330416\n",
      "Accuracy after iteration 4: 0.344150\n",
      "Accuracy after iteration 5: 0.363404\n",
      "Accuracy after iteration 6: 0.397738\n",
      "Accuracy after iteration 7: 0.443113\n",
      "Accuracy after iteration 8: 0.492931\n",
      "Accuracy after iteration 9: 0.542615\n",
      "Accuracy after iteration 10: 0.586105\n",
      "Accuracy after iteration 11: 0.623805\n",
      "Accuracy after iteration 12: 0.659351\n",
      "Accuracy after iteration 13: 0.686011\n",
      "Accuracy after iteration 14: 0.710920\n",
      "Accuracy after iteration 15: 0.730039\n",
      "Accuracy after iteration 16: 0.743907\n",
      "Accuracy after iteration 17: 0.758584\n",
      "Accuracy after iteration 18: 0.769759\n",
      "Accuracy after iteration 19: 0.779992\n",
      "Accuracy after iteration 20: 0.788474\n",
      "Accuracy after iteration 21: 0.799515\n",
      "Accuracy after iteration 22: 0.803959\n",
      "Accuracy after iteration 23: 0.810825\n",
      "Accuracy after iteration 24: 0.817558\n",
      "Accuracy after iteration 25: 0.822539\n",
      "Accuracy after iteration 26: 0.825905\n",
      "Accuracy after iteration 27: 0.829945\n",
      "Accuracy after iteration 28: 0.834253\n",
      "Accuracy after iteration 29: 0.838293\n",
      "Accuracy after iteration 30: 0.840582\n",
      "Accuracy after iteration 31: 0.843275\n",
      "Accuracy after iteration 32: 0.847179\n",
      "Accuracy after iteration 33: 0.849334\n",
      "Accuracy after iteration 34: 0.851622\n",
      "Accuracy after iteration 35: 0.853911\n",
      "Accuracy after iteration 36: 0.856335\n",
      "Accuracy after iteration 37: 0.859297\n",
      "Accuracy after iteration 38: 0.861182\n",
      "Accuracy after iteration 39: 0.862259\n",
      "Accuracy after iteration 40: 0.865087\n",
      "Accuracy after iteration 41: 0.867241\n",
      "Accuracy after iteration 42: 0.868588\n",
      "Accuracy after iteration 43: 0.870742\n",
      "Accuracy after iteration 44: 0.872223\n",
      "Accuracy after iteration 45: 0.873704\n",
      "Accuracy after iteration 46: 0.874512\n",
      "Accuracy after iteration 47: 0.875589\n",
      "Accuracy after iteration 48: 0.876801\n",
      "Accuracy after iteration 49: 0.877878\n",
      "Accuracy after iteration 50: 0.878551\n",
      "Accuracy after iteration 51: 0.879763\n",
      "Accuracy after iteration 52: 0.880571\n",
      "Accuracy after iteration 53: 0.881648\n",
      "Accuracy after iteration 54: 0.882456\n",
      "Accuracy after iteration 55: 0.883937\n",
      "Accuracy after iteration 56: 0.884745\n",
      "Accuracy after iteration 57: 0.885957\n",
      "Accuracy after iteration 58: 0.887034\n",
      "Accuracy after iteration 59: 0.887707\n",
      "Accuracy after iteration 60: 0.889457\n",
      "Accuracy after iteration 61: 0.890131\n",
      "Accuracy after iteration 62: 0.891342\n",
      "Accuracy after iteration 63: 0.892016\n",
      "Accuracy after iteration 64: 0.893227\n",
      "Accuracy after iteration 65: 0.894439\n",
      "Accuracy after iteration 66: 0.895651\n",
      "Accuracy after iteration 67: 0.896728\n",
      "Accuracy after iteration 68: 0.898209\n",
      "Accuracy after iteration 69: 0.899017\n",
      "Accuracy after iteration 70: 0.899960\n",
      "Accuracy after iteration 71: 0.900767\n",
      "Accuracy after iteration 72: 0.901037\n",
      "Accuracy after iteration 73: 0.901575\n",
      "Accuracy after iteration 74: 0.901979\n",
      "Accuracy after iteration 75: 0.902383\n",
      "Accuracy after iteration 76: 0.903191\n",
      "Accuracy after iteration 77: 0.903730\n",
      "Accuracy after iteration 78: 0.904134\n",
      "Accuracy after iteration 79: 0.904537\n",
      "Accuracy after iteration 80: 0.905211\n",
      "Accuracy after iteration 81: 0.905749\n",
      "Accuracy after iteration 82: 0.906019\n",
      "Accuracy after iteration 83: 0.906826\n",
      "Accuracy after iteration 84: 0.907634\n",
      "Accuracy after iteration 85: 0.907904\n",
      "Accuracy after iteration 86: 0.908577\n",
      "Accuracy after iteration 87: 0.908846\n",
      "Accuracy after iteration 88: 0.909250\n",
      "Accuracy after iteration 89: 0.909789\n",
      "Accuracy after iteration 90: 0.910058\n",
      "Accuracy after iteration 91: 0.910462\n",
      "Accuracy after iteration 92: 0.910596\n",
      "Accuracy after iteration 93: 0.910866\n",
      "Accuracy after iteration 94: 0.911135\n",
      "Accuracy after iteration 95: 0.911539\n",
      "Accuracy after iteration 96: 0.911943\n",
      "Accuracy after iteration 97: 0.912347\n",
      "Accuracy after iteration 98: 0.912751\n",
      "Accuracy after iteration 99: 0.913424\n",
      "Accuracy after iteration 100: 0.913693\n",
      "Accuracy after iteration 101: 0.913828\n",
      "Accuracy after iteration 102: 0.914232\n",
      "Accuracy after iteration 103: 0.914636\n",
      "Accuracy after iteration 104: 0.915174\n",
      "Accuracy after iteration 105: 0.915578\n",
      "Accuracy after iteration 106: 0.915444\n",
      "Accuracy after iteration 107: 0.915848\n",
      "Accuracy after iteration 108: 0.916386\n",
      "Accuracy after iteration 109: 0.916521\n",
      "Accuracy after iteration 110: 0.917194\n",
      "Accuracy after iteration 111: 0.917867\n",
      "Accuracy after iteration 112: 0.918540\n",
      "Accuracy after iteration 113: 0.919079\n",
      "Accuracy after iteration 114: 0.919618\n",
      "Accuracy after iteration 115: 0.920291\n",
      "Accuracy after iteration 116: 0.920695\n",
      "Accuracy after iteration 117: 0.921368\n",
      "Accuracy after iteration 118: 0.921907\n",
      "Accuracy after iteration 119: 0.921907\n",
      "Accuracy after iteration 120: 0.922176\n",
      "Accuracy after iteration 121: 0.922310\n",
      "Accuracy after iteration 122: 0.922849\n",
      "Accuracy after iteration 123: 0.923118\n",
      "Accuracy after iteration 124: 0.923388\n",
      "Accuracy after iteration 125: 0.923792\n",
      "Accuracy after iteration 126: 0.923792\n",
      "Accuracy after iteration 127: 0.924196\n",
      "Accuracy after iteration 128: 0.925003\n",
      "Accuracy after iteration 129: 0.925003\n",
      "Accuracy after iteration 130: 0.925138\n",
      "Accuracy after iteration 131: 0.926215\n",
      "Accuracy after iteration 132: 0.926619\n",
      "Accuracy after iteration 133: 0.927023\n",
      "Accuracy after iteration 134: 0.927023\n",
      "Accuracy after iteration 135: 0.927292\n",
      "Accuracy after iteration 136: 0.927292\n",
      "Accuracy after iteration 137: 0.927427\n",
      "Accuracy after iteration 138: 0.927831\n",
      "Accuracy after iteration 139: 0.927831\n",
      "Accuracy after iteration 140: 0.928235\n",
      "Accuracy after iteration 141: 0.928235\n",
      "Accuracy after iteration 142: 0.928504\n",
      "Accuracy after iteration 143: 0.928504\n",
      "Accuracy after iteration 144: 0.928773\n",
      "Accuracy after iteration 145: 0.928773\n",
      "Accuracy after iteration 146: 0.928908\n",
      "Accuracy after iteration 147: 0.929043\n",
      "Accuracy after iteration 148: 0.929581\n",
      "Accuracy after iteration 149: 0.930120\n",
      "Accuracy after iteration 150: 0.929985\n"
     ]
    }
   ],
   "source": [
    "parameters, accuracy_matrix = nn_model(X_train, y_train, 32, num_iterations=150, print_cost=False)"
   ]
  },
  {
   "cell_type": "markdown",
   "metadata": {},
   "source": [
    "We chose 150 epochs, and didn't increase to avoid overfitting issue."
   ]
  },
  {
   "cell_type": "markdown",
   "metadata": {},
   "source": [
    "### Loss vs epochs"
   ]
  },
  {
   "cell_type": "code",
   "execution_count": 19,
   "metadata": {},
   "outputs": [
    {
     "data": {
      "image/png": "[encoded data removed]",
      "text/plain": [
       "<Figure size 432x288 with 1 Axes>"
      ]
     },
     "metadata": {
      "needs_background": "light"
     },
     "output_type": "display_data"
    }
   ],
   "source": [
    "plt.plot(range(0,151), accuracy_matrix)\n",
    "plt.xlabel('Epochs')\n",
    "plt.ylabel('Accuracy')\n",
    "plt.show()"
   ]
  },
  {
   "cell_type": "markdown",
   "metadata": {},
   "source": [
    "### Saving weights to pickle file"
   ]
  },
  {
   "cell_type": "code",
   "execution_count": 20,
   "metadata": {},
   "outputs": [],
   "source": [
    "file = open('weights.pkl', 'wb+')\n",
    "pickle.dump(parameters, file)\n",
    "file.close()"
   ]
  }
 ],
 "metadata": {
  "kernelspec": {
   "display_name": "Python 3",
   "language": "python",
   "name": "python3"
  },
  "language_info": {
   "codemirror_mode": {
    "name": "ipython",
    "version": 3
   },
   "file_extension": ".py",
   "mimetype": "text/x-python",
   "name": "python",
   "nbconvert_exporter": "python",
   "pygments_lexer": "ipython3",
   "version": "3.8.8"
  }
 },
 "nbformat": 4,
 "nbformat_minor": 4
}
